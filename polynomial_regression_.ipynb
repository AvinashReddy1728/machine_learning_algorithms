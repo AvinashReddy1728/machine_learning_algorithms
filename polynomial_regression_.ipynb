{
 "cells": [
  {
   "cell_type": "code",
   "execution_count": 9,
   "metadata": {},
   "outputs": [],
   "source": [
    "import pandas as pd\n",
    "import numpy as np\n",
    "import matplotlib.pyplot as plt "
   ]
  },
  {
   "cell_type": "markdown",
   "metadata": {},
   "source": [
    "loading the data set and defining features and tarets"
   ]
  },
  {
   "cell_type": "code",
   "execution_count": 10,
   "metadata": {},
   "outputs": [],
   "source": [
    "file_path = r\"C:\\Users\\91944\\OneDrive - Indian Institute of Technology Indian School of Mines Dhanbad\\Desktop\\ml\\polynomial_regression_train.csv\"\n",
    "data = pd.read_csv(file_path)\n",
    "\n",
    "data = data.drop(columns=['ID'])\n",
    "\n",
    "X = data.drop(columns=['Target']).to_numpy()\n",
    "y = data['Target'].to_numpy()"
   ]
  },
  {
   "cell_type": "markdown",
   "metadata": {},
   "source": [
    "splitting the data set into training and testing data set "
   ]
  },
  {
   "cell_type": "code",
   "execution_count": 11,
   "metadata": {},
   "outputs": [],
   "source": [
    "def train_test_split_manual(X, y, test_size=0.2, random_seed=42):\n",
    "    np.random.seed(random_seed)\n",
    "    indices = np.random.permutation(X.shape[0])\n",
    "    test_size = int(X.shape[0] * test_size)\n",
    "    test_indices, train_indices = indices[:test_size], indices[test_size:]\n",
    "    return X[train_indices], X[test_indices], y[train_indices], y[test_indices]\n",
    "\n",
    "X_train, X_test, y_train, y_test = train_test_split_manual(X, y, test_size=0.2)\n",
    "X_tarin_mean=X_train.mean()\n",
    "X_train_std =X_train.std()\n",
    "X_train=(X_train-X_tarin_mean)/X_train_std\n",
    "X_test = (X_test-X_tarin_mean)/X_train_std"
   ]
  },
  {
   "cell_type": "markdown",
   "metadata": {},
   "source": [
    "generating polynomial feaures"
   ]
  },
  {
   "cell_type": "code",
   "execution_count": 12,
   "metadata": {},
   "outputs": [],
   "source": [
    "def generate_polynomial_features(X, degree):\n",
    "    n_samples, n_features = X.shape\n",
    "    poly_features = np.ones((n_samples, 1))  # Bias term\n",
    "    for d in range(1, degree + 1):\n",
    "        for combination in np.array(np.meshgrid(*[range(n_features) for _ in range(d)])).T.reshape(-1, d):\n",
    "            poly_features = np.hstack((poly_features, np.prod(X[:, combination], axis=1).reshape(-1, 1)))\n",
    "    return poly_features"
   ]
  },
  {
   "cell_type": "markdown",
   "metadata": {},
   "source": [
    "defining gradient descent algorithm"
   ]
  },
  {
   "cell_type": "code",
   "execution_count": 13,
   "metadata": {},
   "outputs": [],
   "source": [
    "def gradient_descent(X, y, degree, learning_rate, epochs):\n",
    "    X_poly = generate_polynomial_features(X, degree)\n",
    "    n_samples, n_features = X_poly.shape\n",
    "    coefficients = np.zeros(n_features)  \n",
    "    cost_history = []  \n",
    "    \n",
    "    for epoch in range(epochs):\n",
    "        y_pred = X_poly @ coefficients\n",
    "        gradients = (2 / n_samples) * X_poly.T @ (y_pred - y)\n",
    "        coefficients -= learning_rate * gradients\n",
    "        \n",
    "        mse = np.mean((y - y_pred) ** 2)\n",
    "        cost_history.append(mse)  \n",
    "        \n",
    "        \n",
    "    \n",
    "    return coefficients, cost_history"
   ]
  },
  {
   "cell_type": "markdown",
   "metadata": {},
   "source": [
    "predicted the testing data test"
   ]
  },
  {
   "cell_type": "code",
   "execution_count": 14,
   "metadata": {},
   "outputs": [],
   "source": [
    "def predict_polynomial_regression(X, coefficients, degree):\n",
    "    X_poly = generate_polynomial_features(X, degree)\n",
    "    return X_poly @ coefficients"
   ]
  },
  {
   "cell_type": "markdown",
   "metadata": {},
   "source": [
    "defining the metrics"
   ]
  },
  {
   "cell_type": "code",
   "execution_count": 15,
   "metadata": {},
   "outputs": [],
   "source": [
    "def mean_squared_error(y_true, y_pred):\n",
    "    return np.mean((y_true - y_pred) ** 2)\n",
    "\n",
    "\n",
    "def r2_score(y_true, y_pred):\n",
    "    ss_total = np.sum((y_true - np.mean(y_true)) ** 2)  \n",
    "    ss_residual = np.sum((y_true - y_pred) **2)\n",
    "    return 1 - (ss_residual / ss_total)\n"
   ]
  },
  {
   "cell_type": "markdown",
   "metadata": {},
   "source": [
    "training the data set "
   ]
  },
  {
   "cell_type": "code",
   "execution_count": 18,
   "metadata": {},
   "outputs": [
    {
     "name": "stdout",
     "output_type": "stream",
     "text": [
      "\n",
      "Final Results:\n",
      "Training MSE: 9.417637516393013e-18\n",
      "Testing MSE: 8.745474061685706e-18\n",
      "Training R²: 0.9207900316865911\n",
      "Testing R²: 0.9192059004096086\n"
     ]
    }
   ],
   "source": [
    "\n",
    "degree = 4\n",
    "learning_rate = 0.005\n",
    "epochs = 1000\n",
    "\n",
    "coefficients,cost_fucntion = gradient_descent(X_train, y_train, degree, learning_rate, epochs)\n",
    "\n",
    "y_train_pred = predict_polynomial_regression(X_train, coefficients, degree)\n",
    "y_test_pred = predict_polynomial_regression(X_test, coefficients, degree)\n",
    "\n",
    "train_mse = mean_squared_error(y_train, y_train_pred)\n",
    "test_mse = mean_squared_error(y_test, y_test_pred)\n",
    "\n",
    "train_r2 = r2_score(y_train, y_train_pred)\n",
    "test_r2 = r2_score(y_test, y_test_pred)\n",
    "\n",
    "print(\"\\nFinal Results:\")\n",
    "print(\"Training MSE:\", train_mse)\n",
    "print(\"Testing MSE:\", test_mse)\n",
    "print(\"Training R²:\", train_r2)\n",
    "print(\"Testing R²:\", test_r2)"
   ]
  },
  {
   "cell_type": "code",
   "execution_count": 19,
   "metadata": {},
   "outputs": [
    {
     "data": {
      "image/png": "[encoded data removed]",
      "text/plain": [
       "<Figure size 640x480 with 1 Axes>"
      ]
     },
     "metadata": {},
     "output_type": "display_data"
    }
   ],
   "source": [
    "plt.plot(range(epochs),cost_fucntion)\n",
    "plt.title(\"convergence\")\n",
    "plt.xlabel(\"iterations\")\n",
    "plt.ylabel(\"cost fucntion\")\n",
    "plt.show()\n"
   ]
  }
 ],
 "metadata": {
  "kernelspec": {
   "display_name": "venv",
   "language": "python",
   "name": "python3"
  },
  "language_info": {
   "codemirror_mode": {
    "name": "ipython",
    "version": 3
   },
   "file_extension": ".py",
   "mimetype": "text/x-python",
   "name": "python",
   "nbconvert_exporter": "python",
   "pygments_lexer": "ipython3",
   "version": "3.12.6"
  }
 },
 "nbformat": 4,
 "nbformat_minor": 2
}
