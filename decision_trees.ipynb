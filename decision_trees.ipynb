{
 "cells": [
  {
   "cell_type": "code",
   "execution_count": 13,
   "metadata": {},
   "outputs": [],
   "source": [
    "import numpy as np\n",
    "import pandas as pd\n",
    "import matplotlib.pyplot as plt"
   ]
  },
  {
   "cell_type": "markdown",
   "metadata": {},
   "source": [
    "measuring the impurity in the data set "
   ]
  },
  {
   "cell_type": "code",
   "execution_count": 14,
   "metadata": {},
   "outputs": [],
   "source": [
    "def gini_impurity(y):\n",
    "    classes, counts = np.unique(y, return_counts=True)\n",
    "    prob_sq = (counts / counts.sum()) ** 2\n",
    "    return 1 - prob_sq.sum() "
   ]
  },
  {
   "cell_type": "markdown",
   "metadata": {},
   "source": [
    "spliting the data bases on the given thresshold "
   ]
  },
  {
   "cell_type": "code",
   "execution_count": 15,
   "metadata": {},
   "outputs": [],
   "source": [
    "def split_dataset(X, y, feature, threshold):\n",
    "    left_indices = X[:, feature] <= threshold\n",
    "    right_indices = X[:, feature] > threshold\n",
    "    return (X[left_indices], y[left_indices]), (X[right_indices], y[right_indices])"
   ]
  },
  {
   "cell_type": "markdown",
   "metadata": {},
   "source": [
    "obtaining the best thresshold to split"
   ]
  },
  {
   "cell_type": "code",
   "execution_count": 16,
   "metadata": {},
   "outputs": [],
   "source": [
    "def best_split(X, y):\n",
    "    best_feature, best_threshold = None, None\n",
    "    best_gini = float('inf')\n",
    "    best_splits = None\n",
    "\n",
    "    for feature in range(X.shape[1]):\n",
    "        thresholds = np.unique(X[:, feature])\n",
    "        for threshold in thresholds:\n",
    "            (X_left, y_left), (X_right, y_right) = split_dataset(X, y, feature, threshold)\n",
    "\n",
    "            if len(y_left) == 0 or len(y_right) == 0:\n",
    "                continue\n",
    "\n",
    "            gini_left = gini_impurity(y_left)\n",
    "            gini_right = gini_impurity(y_right)\n",
    "            gini_split = (len(y_left) * gini_left + len(y_right) * gini_right) / len(y)\n",
    "\n",
    "            if gini_split < best_gini:\n",
    "                best_gini = gini_split\n",
    "                best_feature = feature\n",
    "                best_threshold = threshold\n",
    "                best_splits = (X_left, y_left, X_right, y_right)\n",
    "\n",
    "    return best_feature, best_threshold, best_splits"
   ]
  },
  {
   "cell_type": "markdown",
   "metadata": {},
   "source": [
    "building the decision tree"
   ]
  },
  {
   "cell_type": "code",
   "execution_count": 17,
   "metadata": {},
   "outputs": [],
   "source": [
    "def build_tree(X, y, max_depth=None, min_samples_split=2, depth=0):\n",
    "    \n",
    "    #stopping condition \n",
    "    if (max_depth is not None and depth >= max_depth) or len(y) < min_samples_split or len(np.unique(y)) == 1:\n",
    "        return np.argmax(np.bincount(y))\n",
    "    \n",
    "    feature, threshold, splits = best_split(X, y)\n",
    "    if splits is None:\n",
    "        return np.argmax(np.bincount(y))\n",
    "\n",
    "    X_left, y_left, X_right, y_right = splits\n",
    "    \n",
    "    #sub branches\n",
    "    left_subtree = build_tree(X_left, y_left, max_depth, min_samples_split, depth + 1)\n",
    "    right_subtree = build_tree(X_right, y_right, max_depth, min_samples_split, depth + 1)\n",
    "\n",
    "    return {\"feature\": feature, \"threshold\": threshold, \"left\": left_subtree, \"right\": right_subtree}"
   ]
  },
  {
   "cell_type": "markdown",
   "metadata": {},
   "source": [
    "predicting the new data set "
   ]
  },
  {
   "cell_type": "code",
   "execution_count": 18,
   "metadata": {},
   "outputs": [],
   "source": [
    "def predict_sample(x, tree):\n",
    "    if not isinstance(tree, dict):\n",
    "        return tree\n",
    "\n",
    "    feature = tree[\"feature\"]\n",
    "    threshold = tree[\"threshold\"]\n",
    "\n",
    "    if x[feature] <= threshold:\n",
    "        return predict_sample(x, tree[\"left\"])\n",
    "    else:\n",
    "        return predict_sample(x, tree[\"right\"])\n",
    "\n",
    "def predict(X, tree):\n",
    "    return np.array([predict_sample(x, tree) for x in X])"
   ]
  },
  {
   "cell_type": "markdown",
   "metadata": {},
   "source": [
    "metric calculation"
   ]
  },
  {
   "cell_type": "code",
   "execution_count": 19,
   "metadata": {},
   "outputs": [],
   "source": [
    "def calculate_f1_score(y_true, y_pred):\n",
    "    classes = np.unique(y_true)\n",
    "    f1_scores = []\n",
    "\n",
    "    for cls in classes:\n",
    "        tp = np.sum((y_pred == cls) & (y_true == cls))\n",
    "        fp = np.sum((y_pred == cls) & (y_true != cls))\n",
    "        fn = np.sum((y_pred != cls) & (y_true == cls))\n",
    "\n",
    "        precision = tp / (tp + fp) if (tp + fp) > 0 else 0\n",
    "        recall = tp / (tp + fn) if (tp + fn) > 0 else 0\n",
    "\n",
    "        f1 = 2 * (precision * recall) / (precision + recall) if (precision + recall) > 0 else 0\n",
    "        f1_scores.append(f1)\n",
    "\n",
    "    return np.mean(f1_scores)"
   ]
  },
  {
   "cell_type": "code",
   "execution_count": 20,
   "metadata": {},
   "outputs": [
    {
     "name": "stdout",
     "output_type": "stream",
     "text": [
      "Test Accuracy: 0.70\n",
      "Test F1 Score: 0.65\n"
     ]
    }
   ],
   "source": [
    "file_path = r\"C:\\Users\\91944\\OneDrive - Indian Institute of Technology Indian School of Mines Dhanbad\\Desktop\\ml\\multi_classification_train.csv\"\n",
    "data = pd.read_csv(file_path)\n",
    "\n",
    "X = data.drop(columns=['ID', 'Class']).values\n",
    "y = data['Class'].values\n",
    "\n",
    "np.random.seed(42)\n",
    "indices = np.random.permutation(len(X))\n",
    "train_size = int(0.8 * len(X))\n",
    "train_indices = indices[:train_size]\n",
    "test_indices = indices[train_size:]\n",
    "\n",
    "X_train, X_test = X[train_indices], X[test_indices]\n",
    "y_train, y_test = y[train_indices], y[test_indices]\n",
    "\n",
    "   \n",
    "tree = build_tree(X_train, y_train, max_depth=15, min_samples_split=2)\n",
    "\n",
    "    \n",
    "y_pred = predict(X_test, tree)\n",
    "\n",
    "accuracy = np.mean(y_pred == y_test)\n",
    "print(f\"Test Accuracy: {accuracy:.2f}\")\n",
    "\n",
    "f1_score = calculate_f1_score(y_test, y_pred)\n",
    "print(f\"Test F1 Score: {f1_score:.2f}\")\n",
    "\n",
    "  "
   ]
  }
 ],
 "metadata": {
  "kernelspec": {
   "display_name": "venv",
   "language": "python",
   "name": "python3"
  },
  "language_info": {
   "codemirror_mode": {
    "name": "ipython",
    "version": 3
   },
   "file_extension": ".py",
   "mimetype": "text/x-python",
   "name": "python",
   "nbconvert_exporter": "python",
   "pygments_lexer": "ipython3",
   "version": "3.12.6"
  }
 },
 "nbformat": 4,
 "nbformat_minor": 2
}
