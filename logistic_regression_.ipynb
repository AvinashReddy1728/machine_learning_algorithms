{
 "cells": [
  {
   "cell_type": "code",
   "execution_count": 62,
   "metadata": {},
   "outputs": [],
   "source": [
    "import numpy as np\n",
    "import matplotlib.pyplot as plt                                                          \n",
    "import pandas as pd                  "
   ]
  },
  {
   "cell_type": "markdown",
   "metadata": {},
   "source": [
    "defining sigmoid function , cost function and training "
   ]
  },
  {
   "cell_type": "code",
   "execution_count": 63,
   "metadata": {},
   "outputs": [],
   "source": [
    "def sigmoid(z):\n",
    "    return 1 / (1 + np.exp(-z))\n",
    "\n",
    "def compute_loss(y, y_predicted):\n",
    "    m = len(y)\n",
    "    cost= -(1 / m) * np.sum(y * np.log(y_predicted) + (1 - y) * np.log(1 - y_predicted))\n",
    "    return cost\n",
    "\n",
    "def train_logistic_regression(X, y, learning_rate=0.01, epochs=1000):\n",
    "    n_samples, n_features = X.shape\n",
    "    weights = np.zeros(n_features)\n",
    "    bias = 0\n",
    "    loss_history = []\n",
    "\n",
    "    for _ in range(epochs):\n",
    "        \n",
    "        z = np.dot(X, weights) + bias\n",
    "        y_predicted = sigmoid(z)\n",
    "\n",
    "        \n",
    "        dw = (1 / n_samples) * np.dot(X.T, (y_predicted - y))\n",
    "        db = (1 / n_samples) * np.sum(y_predicted - y)\n",
    "\n",
    "        \n",
    "        weights -= learning_rate * dw\n",
    "        bias -= learning_rate * db\n",
    "\n",
    "        \n",
    "        loss = compute_loss(y, y_predicted)\n",
    "        loss_history.append(loss)\n",
    "    \n",
    "\n",
    "    return weights, bias, loss_history\n",
    "\n"
   ]
  },
  {
   "cell_type": "code",
   "execution_count": 64,
   "metadata": {},
   "outputs": [],
   "source": [
    "def predict(X, weights, bias):\n",
    "    linear_model = np.dot(X, weights) + bias\n",
    "    y_predicted = sigmoid(linear_model)\n",
    "    return [1 if i > 0.5 else 0 for i in y_predicted]\n"
   ]
  },
  {
   "cell_type": "code",
   "execution_count": 65,
   "metadata": {},
   "outputs": [],
   "source": [
    "def f1_score(y_true, y_pred):\n",
    "    tp = np.sum((y_true == 1) & (y_pred == 1  ))\n",
    "    fp = np.sum((y_true == 0) & (y_pred == 1))\n",
    "    fn = np.sum((y_true == 1) & (y_pred == 0))\n",
    "    print(tp,fp,fn)\n",
    "    precision = tp / (tp + fp )\n",
    "    recall = tp / (tp + fn)\n",
    "    print(precision,recall)\n",
    "    return 2 * (precision * recall) / (precision + recall)"
   ]
  },
  {
   "cell_type": "code",
   "execution_count": 66,
   "metadata": {},
   "outputs": [
    {
     "name": "stdout",
     "output_type": "stream",
     "text": [
      "0.2518366539996527\n",
      "[0, 1, 0, 0, 0]\n",
      "[0 1 0 0 0]\n",
      "0 0 0\n",
      "nan nan\n",
      "f1_score for testing data set is  nan\n",
      "Accuracy on training dataset: 93.23681707703687%\n"
     ]
    },
    {
     "name": "stderr",
     "output_type": "stream",
     "text": [
      "C:\\Users\\91944\\AppData\\Local\\Temp\\ipykernel_17640\\1317263964.py:6: RuntimeWarning: invalid value encountered in scalar divide\n",
      "  precision = tp / (tp + fp )\n",
      "C:\\Users\\91944\\AppData\\Local\\Temp\\ipykernel_17640\\1317263964.py:7: RuntimeWarning: invalid value encountered in scalar divide\n",
      "  recall = tp / (tp + fn)\n"
     ]
    }
   ],
   "source": [
    "data = pd.read_csv(r\"C:\\Users\\91944\\OneDrive - Indian Institute of Technology Indian School of Mines Dhanbad\\Desktop\\ml\\binary_classification_train.csv\")\n",
    "data = data.drop(columns=['ID'])\n",
    "\n",
    "\n",
    "X = data.drop(columns=['Class']).values\n",
    "y = data['Class'].values\n",
    "X = (X - np.mean(X, axis=0)) / np.std(X, axis=0)  # Normalize features\n",
    "\n",
    "split_index = int(0.8 * len(X))\n",
    "X_train, X_test = X[:split_index], X[split_index:]\n",
    "y_train, y_test = y[:split_index], y[split_index:]\n",
    "\n",
    "weights, bias, loss_history = train_logistic_regression(X_train, y_train, learning_rate=5, epochs=10)\n",
    "print(loss_history[-1])\n",
    "\n",
    "y_pred = predict(X_train, weights, bias)\n",
    "print(y_pred[:5])\n",
    "print(y_train[:5])\n",
    "accuracy = np.mean(y_pred == y_train)\n",
    "metric = f1_score(y_train,y_pred)\n",
    "print(\"f1_score for testing data set is \",metric)\n",
    "\n",
    "print(f\"Accuracy on training dataset: {accuracy * 100}%\")"
   ]
  },
  {
   "cell_type": "code",
   "execution_count": 67,
   "metadata": {},
   "outputs": [
    {
     "data": {
      "image/png": "[encoded data removed]",
      "text/plain": [
       "<Figure size 640x480 with 1 Axes>"
      ]
     },
     "metadata": {},
     "output_type": "display_data"
    }
   ],
   "source": [
    "# Plot the loss curve\n",
    "plt.plot(loss_history)\n",
    "plt.title('Loss Curve')\n",
    "plt.xlabel('Epochs')\n",
    "plt.ylabel('Loss')\n",
    "plt.show()"
   ]
  },
  {
   "cell_type": "code",
   "execution_count": 68,
   "metadata": {},
   "outputs": [
    {
     "name": "stdout",
     "output_type": "stream",
     "text": [
      "Predictions saved in the original test data file.\n"
     ]
    }
   ],
   "source": [
    "test_data = pd.read_csv(r\"C:\\Users\\91944\\OneDrive - Indian Institute of Technology Indian School of Mines Dhanbad\\Desktop\\ml\\binary_classification_test.csv\")\n",
    "\n",
    "\n",
    "# Prepare features and labels for the new dataset\n",
    "X_new = test_data.drop(columns=[\"ID\"]).values\n",
    "X_new = (X_new - np.mean(X, axis=0)) / np.std(X, axis=0)  # Use training normalization parameters\n",
    "\n",
    "# Evaluate the model on the new dataset\n",
    "y_new_pred = predict(X_new, weights, bias)\n",
    "\n",
    "\n",
    "test_data['Predicted'] = y_new_pred\n",
    "test_data.to_csv(r\"C:\\Users\\91944\\OneDrive - Indian Institute of Technology Indian School of Mines Dhanbad\\Desktop\\ml\\binary_classification_test_updated.csv\", index=False)\n",
    "print(\"Predictions saved in the original test data file.\")\n",
    "\n"
   ]
  }
 ],
 "metadata": {
  "kernelspec": {
   "display_name": "venv",
   "language": "python",
   "name": "python3"
  },
  "language_info": {
   "codemirror_mode": {
    "name": "ipython",
    "version": 3
   },
   "file_extension": ".py",
   "mimetype": "text/x-python",
   "name": "python",
   "nbconvert_exporter": "python",
   "pygments_lexer": "ipython3",
   "version": "3.12.6"
  }
 },
 "nbformat": 4,
 "nbformat_minor": 2
}
