{
 "cells": [
  {
   "cell_type": "code",
   "execution_count": 7,
   "metadata": {},
   "outputs": [],
   "source": [
    "import numpy as np\n",
    "import pandas as pd"
   ]
  },
  {
   "cell_type": "markdown",
   "metadata": {},
   "source": [
    "loading the data  set "
   ]
  },
  {
   "cell_type": "code",
   "execution_count": 8,
   "metadata": {},
   "outputs": [],
   "source": [
    "# Replace 'your_file.csv' with the path to your dataset\n",
    "data = pd.read_csv(r\"C:\\Users\\91944\\OneDrive - Indian Institute of Technology Indian School of Mines Dhanbad\\Desktop\\ml\\unsupervised_data.csv\")\n",
    "\n",
    "# Convert the data to a NumPy array (ensure it's numeric)\n",
    "X = data.values"
   ]
  },
  {
   "cell_type": "markdown",
   "metadata": {},
   "source": [
    "initialising the centroids and clusters "
   ]
  },
  {
   "cell_type": "code",
   "execution_count": 9,
   "metadata": {},
   "outputs": [],
   "source": [
    "def initialize_centroids(X, k):\n",
    "    np.random.seed(42)  # For reproducibility\n",
    "    random_indices = np.random.permutation(X.shape[0])[:k]\n",
    "    return X[random_indices]\n",
    "\n",
    "def assign_clusters(X, centroids):\n",
    "    distances = np.array([np.linalg.norm(X - centroid, axis=1) for centroid in centroids]).T\n",
    "    return np.argmin(distances, axis=1)\n",
    "\n",
    "def calculate_centroids(X, labels, k):\n",
    "    return np.array([X[labels == i].mean(axis=0) for i in range(k)])"
   ]
  },
  {
   "cell_type": "markdown",
   "metadata": {},
   "source": [
    "training the data set "
   ]
  },
  {
   "cell_type": "code",
   "execution_count": 10,
   "metadata": {},
   "outputs": [],
   "source": [
    "def k_means(X, k, max_iter=300, tol=1e-4):\n",
    "\n",
    "    centroids = initialize_centroids(X, k)\n",
    "\n",
    "    for iteration in range(max_iter):\n",
    "        labels = assign_clusters(X, centroids)\n",
    "        \n",
    "        new_centroids = calculate_centroids(X, labels, k)\n",
    "        \n",
    "        if np.all(np.abs(new_centroids - centroids) < tol):\n",
    "            print(f\"Converged after {iteration} iterations\")\n",
    "            break\n",
    "        \n",
    "        centroids = new_centroids\n",
    "\n",
    "    return centroids, labels"
   ]
  },
  {
   "cell_type": "code",
   "execution_count": 11,
   "metadata": {},
   "outputs": [
    {
     "name": "stdout",
     "output_type": "stream",
     "text": [
      "Converged after 23 iterations\n",
      "Centroids:\n",
      " [[ 4.56000000e+02 -8.37419216e+00 -3.13949609e+00 -1.04797388e+01\n",
      "  -9.89225312e-01 -2.25684205e+01 -3.24399613e+00]\n",
      " [ 2.27500000e+03 -1.12732801e+01  2.84559942e-01 -7.68743709e+00\n",
      "   1.16520198e+00 -2.45351719e+01 -2.46812894e+00]\n",
      " [ 1.36600000e+03 -9.60988819e+00 -1.14920841e+00 -8.92842700e+00\n",
      "   1.55284381e+00 -2.32854139e+01 -4.19878724e+00]]\n",
      "Cluster labels:\n",
      " [0 0 0 ... 1 1 1]\n"
     ]
    }
   ],
   "source": [
    "k = 3 \n",
    "centroids, labels = k_means(X, k)\n",
    "\n",
    "print(\"Centroids:\\n\", centroids)\n",
    "print(\"Cluster labels:\\n\", labels)"
   ]
  }
 ],
 "metadata": {
  "kernelspec": {
   "display_name": "venv",
   "language": "python",
   "name": "python3"
  },
  "language_info": {
   "codemirror_mode": {
    "name": "ipython",
    "version": 3
   },
   "file_extension": ".py",
   "mimetype": "text/x-python",
   "name": "python",
   "nbconvert_exporter": "python",
   "pygments_lexer": "ipython3",
   "version": "3.12.6"
  }
 },
 "nbformat": 4,
 "nbformat_minor": 2
}
